{
 "cells": [
  {
   "cell_type": "markdown",
   "metadata": {},
   "source": [
    "# Protein Pow(d)er"
   ]
  },
  {
   "cell_type": "markdown",
   "metadata": {},
   "source": [
    "A protein is a chain of amino acids. An amino acid can be **polair ('P')** or **hydrophobe ('H')**. Each amino acid is placed on a point on a grid. The amino acid chain can fold in angles of 90 degrees on the grid. The stability of the protein fold can be assessed with its **stability score**. For each H-bond (two unconnected hydrophobe amino acids next to each other on the grid) the stability score is decreased by 1. The lowest stability score signals the most stable protein folding. \n",
    "<font color='red'>Whu does de score decrease and not increase?</font>"
   ]
  },
  {
   "cell_type": "markdown",
   "metadata": {},
   "source": [
    "Finding the most stable protein folding is a **constrained optimization problem**. Firstly, it is an optimization problem because not every folding/solution is equally good. In contrary, solutions are scored with a stability score. Secondly, the problem is constrained because amino acids cannot overlap on the grid."
   ]
  },
  {
   "cell_type": "markdown",
   "metadata": {},
   "source": [
    "<font color='red'>The stability score has to be calculated using a **score function**.</font>"
   ]
  },
  {
   "cell_type": "markdown",
   "metadata": {},
   "source": [
    "The amount of possible foldings/solutions of a protein can be estimated with a **complexity function**. Each amino acid can fold into three positions. So $n$ amino acids can fold in $3^n$ positions. Expect for the first amino acid in the protein, which doesn't fold relative to a previous amino acid. This gives us $3^{n-1}$ possible solutions in our **state space**. <font color='red'>However, our state space should be smaller since amino acids cannot overlap on the grid and some solutions might be mirrored/turned.</font>"
   ]
  },
  {
   "cell_type": "code",
   "execution_count": 7,
   "metadata": {
    "collapsed": true
   },
   "outputs": [],
   "source": [
    "def complexity(n):\n",
    "    return 3**(n - 1)"
   ]
  },
  {
   "cell_type": "markdown",
   "metadata": {},
   "source": [
    "The protein can be represented in a Protein class, which stores the amino acid sequence, the length of the amino acid chain, the grid on which the protein will be folded and its stability score. <font color='red'>How can we add an index for each amino acid (to check if two amino acids are connected in the chain or by a H-bond)?</font>"
   ]
  },
  {
   "cell_type": "code",
   "execution_count": 125,
   "metadata": {},
   "outputs": [],
   "source": [
    "class Protein:\n",
    "    \n",
    "    # maak een class protein en een class amino -> dan kun je inheriten \n",
    "    # en dan kun je makkelijk de eigenschappen aanroepen\n",
    "        \n",
    "    def __init__(self, chain):\n",
    "        \n",
    "        # chain is string of amino acid sequence\n",
    "        self.chain = chain\n",
    "        \n",
    "        # n is amount of amino acids in protein chain\n",
    "        self.n = len(self.chain)\n",
    "        \n",
    "        # create a grid of n x n (can later expand to 3D)\n",
    "        # x = xcoordinate in coordinate system, y = y coordinate\n",
    "        # for aa in range (self.n):\n",
    "        self.grid = [[{'aa': None, 'x': None, 'y': None}] for n in range(self.n)] # for x in range(self.n)]\n",
    "        \n",
    "        # stability score is calculated with score function\n",
    "        # self.score = self.score()\n",
    "\n",
    "        \n",
    "#     def score(self):\n",
    "#         score = 0\n",
    "#         return score;"
   ]
  },
  {
   "cell_type": "code",
   "execution_count": 126,
   "metadata": {},
   "outputs": [
    {
     "name": "stdout",
     "output_type": "stream",
     "text": [
      "HHPHHHPH\n",
      "8\n",
      "[[{'aa': None, 'x': None, 'y': None}], [{'aa': None, 'x': None, 'y': None}], [{'aa': None, 'x': None, 'y': None}], [{'aa': None, 'x': None, 'y': None}], [{'aa': None, 'x': None, 'y': None}], [{'aa': None, 'x': None, 'y': None}], [{'aa': None, 'x': None, 'y': None}], [{'aa': None, 'x': None, 'y': None}]]\n"
     ]
    }
   ],
   "source": [
    "protein = Protein(\"HHPHHHPH\")\n",
    "print protein.chain\n",
    "print protein.n\n",
    "print protein.grid\n",
    "# print protein.score"
   ]
  },
  {
   "cell_type": "code",
   "execution_count": 150,
   "metadata": {},
   "outputs": [],
   "source": [
    "import random\n",
    "\n",
    "\n",
    "# function that randomly selects the direction of a chain: up, down, left, right\n",
    "def directionChooser(chain):\n",
    "    direction = random.randint(0,3)\n",
    "    if direction == 0:\n",
    "        return 'u'\n",
    "    elif direction == 1:\n",
    "        return 'r'\n",
    "    elif direction == 2:\n",
    "        return 'd'\n",
    "    else: \n",
    "        return 'l'\n",
    "\n",
    "    \n",
    "# folds the protein. calls functions 'directionChooser', coordMaker'.\n",
    "def fold(protein):\n",
    "    \n",
    "    # array with 'path' of protein: first chain always goes up\n",
    "    foldingArray = ['u']\n",
    "    \n",
    "    # select direction of second chain. only up/right because mirroring\n",
    "    direction = random.randint(0,1)\n",
    "    if direction == 0:\n",
    "        foldingArray.append('u')\n",
    "    else:\n",
    "        foldingArray.append('r')\n",
    "        \n",
    "    # third amino acid and up: random direction\n",
    "    # fold every chain (chain between amino acids: #chains = (#aa's - 1)\n",
    "    # for c in range (2, protein.n - 2):\n",
    "    #     foldingArray.append(directionChooser(c))\n",
    "    \n",
    "    # def coordMaker(foldingArray)\n",
    "\n",
    "    for aa in range(protein.n):\n",
    "#         print(amino)\n",
    "        print(protein.grid[0]['aa'])# = Protein.chain[amino]\n",
    "   \n",
    "                \n",
    "    #             while collision :#pseude\\0\n",
    "    #                 direction = directionChooser(c)\n",
    "    #                 if direction = goed:\n",
    "    #                     break en return right direction\n",
    "    #                 and push in array\n",
    "    \n",
    "    # call directionChooser until no collisions with previous chain:\n",
    "    # while true\n",
    "    #     newDirection = directionChooser(c)\n",
    "    #     if != collision\n",
    "    #         break\n",
    "            \n",
    "            \n",
    "    # second chain either goes up or right (not left because of mirroring)\n",
    "\n",
    "    # fold protein straight down\n",
    "    # Protein.grid[0]['aa'] = Protein.chain[i]\n",
    "#     currentX, currentY = 0, 0\n",
    "    \n",
    "#     for direction in folding:\n",
    "#         if direction == 'u':\n",
    "#             Protein.grid[0][c]['x'] = currentX\n",
    "#             Protein.grid[0][c]['y'] = currentY + 1\n",
    "#         elif direction== 'd':\n",
    "#             Protein.grid[0][c]['x'] = currentX\n",
    "#             Protein.grid[0][c]['y'] = currentY - 1\n",
    "#         elif direction== 'r':\n",
    "#             Protein.grid[0][c]['x'] = currentX + 1\n",
    "#             Protein.grid[0][c]['y'] = currentY\n",
    "#         else:\n",
    "#             Protein.grid[0][c]['x'] = currentX - 1\n",
    "#             Protein.grid[0][c]['y'] = currentY\n",
    "        # pseudo: 0 = naar links relative aan eerdere chain\n",
    "        # 1 = rechtdoor relative\n",
    "        # \n",
    "                \n",
    "        #Protein.grid[0][c]['i'] = c\n",
    "        "
   ]
  },
  {
   "cell_type": "code",
   "execution_count": 151,
   "metadata": {},
   "outputs": [
    {
     "ename": "TypeError",
     "evalue": "list indices must be integers, not str",
     "output_type": "error",
     "traceback": [
      "\u001b[1;31m\u001b[0m",
      "\u001b[1;31mTypeError\u001b[0mTraceback (most recent call last)",
      "\u001b[1;32m<ipython-input-151-d28e40ee323d>\u001b[0m in \u001b[0;36m<module>\u001b[1;34m()\u001b[0m\n\u001b[1;32m----> 1\u001b[1;33m \u001b[0mfold\u001b[0m\u001b[1;33m(\u001b[0m\u001b[0mprotein\u001b[0m\u001b[1;33m)\u001b[0m\u001b[1;33m\u001b[0m\u001b[0m\n\u001b[0m\u001b[0;32m      2\u001b[0m \u001b[1;32mprint\u001b[0m \u001b[0mprotein\u001b[0m\u001b[1;33m.\u001b[0m\u001b[0mgrid\u001b[0m\u001b[1;33m\u001b[0m\u001b[0m\n",
      "\u001b[1;32m<ipython-input-150-f830520e6651>\u001b[0m in \u001b[0;36mfold\u001b[1;34m(protein)\u001b[0m\n\u001b[0;32m     37\u001b[0m     \u001b[1;32mfor\u001b[0m \u001b[0maa\u001b[0m \u001b[1;32min\u001b[0m \u001b[0mrange\u001b[0m\u001b[1;33m(\u001b[0m\u001b[0mprotein\u001b[0m\u001b[1;33m.\u001b[0m\u001b[0mn\u001b[0m\u001b[1;33m)\u001b[0m\u001b[1;33m:\u001b[0m\u001b[1;33m\u001b[0m\u001b[0m\n\u001b[0;32m     38\u001b[0m \u001b[1;31m#         print(amino)\u001b[0m\u001b[1;33m\u001b[0m\u001b[1;33m\u001b[0m\u001b[0m\n\u001b[1;32m---> 39\u001b[1;33m         \u001b[1;32mprint\u001b[0m\u001b[1;33m(\u001b[0m\u001b[0mprotein\u001b[0m\u001b[1;33m.\u001b[0m\u001b[0mgrid\u001b[0m\u001b[1;33m[\u001b[0m\u001b[1;36m0\u001b[0m\u001b[1;33m]\u001b[0m\u001b[1;33m[\u001b[0m\u001b[1;34m'aa'\u001b[0m\u001b[1;33m]\u001b[0m\u001b[1;33m)\u001b[0m\u001b[1;31m# = Protein.chain[amino]\u001b[0m\u001b[1;33m\u001b[0m\u001b[0m\n\u001b[0m\u001b[0;32m     40\u001b[0m \u001b[1;33m\u001b[0m\u001b[0m\n\u001b[0;32m     41\u001b[0m \u001b[1;33m\u001b[0m\u001b[0m\n",
      "\u001b[1;31mTypeError\u001b[0m: list indices must be integers, not str"
     ]
    }
   ],
   "source": [
    "fold(protein)\n",
    "print protein.grid"
   ]
  },
  {
   "cell_type": "code",
   "execution_count": 70,
   "metadata": {},
   "outputs": [
    {
     "data": {
      "image/png": "[encoded data removed]",
      "text/plain": [
       "<matplotlib.figure.Figure at 0x48c3160>"
      ]
     },
     "metadata": {},
     "output_type": "display_data"
    }
   ],
   "source": [
    "import matplotlib.pyplot as plt\n",
    "\n",
    "# iterate of grid rows\n",
    "for r in range(protein.n):\n",
    "    # iterate over grid columns\n",
    "    for c in range(protein.n):\n",
    "        if protein.grid[r][c]['i'] is not None:\n",
    "            if protein.grid[r][c]['aa'] == 'H':\n",
    "                color = 'red'\n",
    "            else:\n",
    "                color = 'blue'\n",
    "                \n",
    "            plt.plot(r, c, color=color)\n",
    "            \n",
    "plt.show()"
   ]
  }
 ],
 "metadata": {
  "kernelspec": {
   "display_name": "Python 2",
   "language": "python",
   "name": "python2"
  },
  "language_info": {
   "codemirror_mode": {
    "name": "ipython",
    "version": 2
   },
   "file_extension": ".py",
   "mimetype": "text/x-python",
   "name": "python",
   "nbconvert_exporter": "python",
   "pygments_lexer": "ipython2",
   "version": "2.7.14"
  }
 },
 "nbformat": 4,
 "nbformat_minor": 2
}
