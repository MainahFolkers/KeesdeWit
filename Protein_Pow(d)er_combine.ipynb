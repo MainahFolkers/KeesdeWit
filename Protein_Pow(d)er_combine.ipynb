{
 "cells": [
  {
   "cell_type": "markdown",
   "metadata": {},
   "source": [
    "# Protein Pow(d)er"
   ]
  },
  {
   "cell_type": "markdown",
   "metadata": {},
   "source": [
    "A protein is a chain of amino acids. An amino acid can be **polair ('P')** or **hydrophobe ('H')**. Each amino acid is placed on a point on a grid. The amino acid chain can fold in angles of 90 degrees on the grid. The stability of the protein fold can be assessed with its **stability score**. For each H-bond (two unconnected hydrophobe amino acids next to each other on the grid) the stability score is decreased by 1. The lowest stability score signals the most stable protein folding. \n",
    "\n",
    "<font color='purple'>Why does the score decrease and not increase?</font> <br> Because the best stability score shows the lowest energy state of an protein."
   ]
  },
  {
   "cell_type": "markdown",
   "metadata": {},
   "source": [
    "Finding the most stable protein folding is a **constrained optimization problem**. Firstly, it is an optimization problem because not every folding/solution is equally good. In contrary, solutions are scored with a stability score. Secondly, the problem is constrained because amino acids cannot overlap on the grid."
   ]
  },
  {
   "cell_type": "markdown",
   "metadata": {},
   "source": [
    "<font color='red'>The stability score has to be calculated using a **score function**.</font>"
   ]
  },
  {
   "cell_type": "markdown",
   "metadata": {},
   "source": [
    "The amount of possible foldings/solutions of a protein can be estimated with a **complexity function**. Each amino acid can fold into three positions. So $n$ amino acids can fold in $3^n$ positions. Expect for the first two amino acids in the protein, which orientation is not relevant. This gives us $3^{n-2}$ possible solutions in our **state space**. <font color='red'>However, our state space should be smaller since amino acids cannot overlap on the grid and some solutions might be mirrored/turned.</font>"
   ]
  },
  {
   "cell_type": "code",
   "execution_count": 23,
   "metadata": {
    "collapsed": true
   },
   "outputs": [],
   "source": [
    "def complexity(n):\n",
    "    return 3**(n - 2)"
   ]
  },
  {
   "cell_type": "markdown",
   "metadata": {},
   "source": [
    "The protein can be represented in a Protein class, which stores the amino acid sequence, the length of the amino acid chain, the grid on which the protein will be folded and its stability score. The Protein class also has a subclass AA, which stores the type of amino acid and the position of the amino acid in its chain."
   ]
  },
  {
   "cell_type": "code",
   "execution_count": 2,
   "metadata": {
    "collapsed": true
   },
   "outputs": [],
   "source": [
    "class Protein:\n",
    "    class AA:\n",
    "        aa = None\n",
    "        i = None\n",
    "        # up down left right\n",
    "        direc = None\n",
    "        \n",
    "    def __init__(self, chain):\n",
    "        # chain is string of amino acid sequence\n",
    "        self.chain = chain\n",
    "        # n is amount of amino acids in protein chain\n",
    "        self.n = len(self.chain)\n",
    "        # create a grid of 2n x 2n (can later expand to 3D)\n",
    "        self.grid = [[self.AA() for y in range(2*self.n)] for x in range(2*self.n)]\n",
    "        # stability score is calculated with score function\n",
    "        self.score = self.score()\n",
    "    \n",
    "    # still needs to be implemented in Score_function.ipynb\n",
    "    def score(self):\n",
    "        score = 0\n",
    "        return score"
   ]
  },
  {
   "cell_type": "code",
   "execution_count": 11,
   "metadata": {},
   "outputs": [
    {
     "name": "stdout",
     "output_type": "stream",
     "text": [
      "HHPHHHPH\n",
      "8\n",
      "0\n",
      "None\n",
      "None\n"
     ]
    }
   ],
   "source": [
    "protein = Protein(\"HHPHHHPH\")\n",
    "print protein.chain\n",
    "print protein.n\n",
    "print protein.score\n",
    "print protein.AA.aa\n",
    "print protein.AA.i"
   ]
  },
  {
   "cell_type": "code",
   "execution_count": 19,
   "metadata": {
    "collapsed": true
   },
   "outputs": [],
   "source": [
    "def fold(protein):\n",
    "    # iterate over amino acids c = column\n",
    "    for c in range(protein.n):\n",
    "        # fold protein straight down\n",
    "        protein.grid[0][c].aa = protein.chain[c]\n",
    "        protein.grid[0][c].i = c"
   ]
  },
  {
   "cell_type": "code",
   "execution_count": 21,
   "metadata": {},
   "outputs": [
    {
     "name": "stdout",
     "output_type": "stream",
     "text": [
      "H\n"
     ]
    }
   ],
   "source": [
    "fold(protein)\n",
    "print protein.grid[0][0].aa"
   ]
  },
  {
   "cell_type": "code",
   "execution_count": 22,
   "metadata": {},
   "outputs": [
    {
     "data": {
      "image/png": "[encoded data removed]",
      "text/plain": [
       "<matplotlib.figure.Figure at 0x8deee10>"
      ]
     },
     "metadata": {},
     "output_type": "display_data"
    }
   ],
   "source": [
    "import matplotlib.pyplot as plt\n",
    "\n",
    "# iterate of grid rows\n",
    "for r in range(protein.n):\n",
    "    # iterate over grid columns\n",
    "    for c in range(protein.n):\n",
    "        if protein.grid[r][c].i is not None:\n",
    "            if protein.grid[r][c].aa == 'H':\n",
    "                color = 'red'\n",
    "            else:\n",
    "                color = 'blue'\n",
    "                \n",
    "            plt.plot(r, c, color=color)\n",
    "            \n",
    "plt.show()"
   ]
  },
  {
   "cell_type": "markdown",
   "metadata": {},
   "source": [
    "* hill climber\n",
    "* assimilated annealing"
   ]
  }
 ],
 "metadata": {
  "kernelspec": {
   "display_name": "Python 2",
   "language": "python",
   "name": "python2"
  },
  "language_info": {
   "codemirror_mode": {
    "name": "ipython",
    "version": 2
   },
   "file_extension": ".py",
   "mimetype": "text/x-python",
   "name": "python",
   "nbconvert_exporter": "python",
   "pygments_lexer": "ipython2",
   "version": "2.7.14"
  }
 },
 "nbformat": 4,
 "nbformat_minor": 2
}
