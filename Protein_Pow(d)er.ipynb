{
 "cells": [
  {
   "cell_type": "markdown",
   "metadata": {},
   "source": [
    "# Protein Pow(d)er"
   ]
  },
  {
   "cell_type": "markdown",
   "metadata": {},
   "source": [
    "A protein is a chain of amino acids. An amino acid can be **polair ('P')** or **hydrophobe ('H')**. Each amino acid is placed on a point on a grid. The amino acid chain can fold in angles of 90 degrees on the grid. The stability of the protein fold can be assessed with its **stability score**. For each H-bond (two unconnected hydrophobe amino acids next to each other on the grid) the stability score is decreased by 1. The lowest stability score signals the most stable protein folding."
   ]
  },
  {
   "cell_type": "markdown",
   "metadata": {},
   "source": [
    "Finding the most stable protein folding is a **constrained optimization problem**. Firstly, it is an optimization problem because not every folding/solution is equally good. In contrary, solutions are scored with a stability score. Secondly, the problem is constrained because amino acids cannot overlap on the grid."
   ]
  },
  {
   "cell_type": "markdown",
   "metadata": {},
   "source": [
    "<font color='red'>The stability score has to be calculated using a **score function**.</font>"
   ]
  },
  {
   "cell_type": "markdown",
   "metadata": {},
   "source": [
    "The amount of possible foldings/solutions of a protein can be estimated with a **complexity function**. Each amino acid can fold into three positions. So $n$ amino acids can fold in $3^n$ positions. Expect for the first amino acid in the protein, which doesn't fold relative to a previous amino acid. This gives us $3^{n-1}$ possible solutions in our **state space**. <font color='red'>However, our state space should be smaller since amino acids cannot overlap on the grid and some solutions might be mirrored/turned.</font>"
   ]
  },
  {
   "cell_type": "code",
   "execution_count": 7,
   "metadata": {
    "collapsed": true
   },
   "outputs": [],
   "source": [
    "def complexity(n):\n",
    "    return 3**(n - 1)"
   ]
  },
  {
   "cell_type": "markdown",
   "metadata": {},
   "source": [
    "The protein can be represented in a Protein class, which stores the amino acid sequence, the length of the amino acid chain, the grid on which the protein will be folded and its stability score. <font color='red'>How can we add an index for each amino acid (to check if two amino acids are connect in the chain or by a H-bond)?</font>"
   ]
  },
  {
   "cell_type": "code",
   "execution_count": 53,
   "metadata": {},
   "outputs": [],
   "source": [
    "class Protein:\n",
    "        \n",
    "    def __init__(self, chain):\n",
    "        # chain is string of amino acid sequence\n",
    "        self.chain = chain\n",
    "        # n is amount of amino acids in protein chain\n",
    "        self.n = len(self.chain)\n",
    "        # create a grid of n x n (can later expand to 3D)\n",
    "        self.grid = [[None for y in range(self.n)] for x in range(self.n)]\n",
    "        # stability score is calculated with score function\n",
    "        self.score = self.calc_score()\n",
    "    \n",
    "    def calc_score(self):\n",
    "        score = 0\n",
    "        return score"
   ]
  },
  {
   "cell_type": "code",
   "execution_count": 51,
   "metadata": {},
   "outputs": [],
   "source": [
    "protein = Protein(\"HHPHHHPH\")"
   ]
  }
 ],
 "metadata": {
  "kernelspec": {
   "display_name": "Python 2",
   "language": "python",
   "name": "python2"
  },
  "language_info": {
   "codemirror_mode": {
    "name": "ipython",
    "version": 2
   },
   "file_extension": ".py",
   "mimetype": "text/x-python",
   "name": "python",
   "nbconvert_exporter": "python",
   "pygments_lexer": "ipython2",
   "version": "2.7.14"
  }
 },
 "nbformat": 4,
 "nbformat_minor": 2
}
