{
 "cells": [
  {
   "cell_type": "markdown",
   "metadata": {},
   "source": [
    "To profile the different score functions a time function is used.\n",
    "\n",
    "Source: http://chimera.labs.oreilly.com/books/1230000000393/ch14.html#_solution_238"
   ]
  },
  {
   "cell_type": "code",
   "execution_count": 94,
   "metadata": {
    "collapsed": true
   },
   "outputs": [],
   "source": [
    "import time\n",
    "from functools import wraps\n",
    "\n",
    "def timethis(func):\n",
    "    @wraps(func)\n",
    "    def wrapper(*args, **kwargs):\n",
    "        start = time.perf_counter()\n",
    "        r = func(*args, **kwargs)\n",
    "        end = time.perf_counter()\n",
    "        print('{}.{} : {}'.format(func.__module__, func.__name__, end - start))\n",
    "        return r\n",
    "    return wrapper"
   ]
  },
  {
   "cell_type": "code",
   "execution_count": 81,
   "metadata": {
    "collapsed": true
   },
   "outputs": [],
   "source": [
    "class Protein:\n",
    "    class AA():\n",
    "        aa = None\n",
    "        i = None\n",
    "        \n",
    "    def __init__(self, chain):\n",
    "        # chain is string of amino acid sequence\n",
    "        self.chain = chain\n",
    "        # n is amount of amino acids in protein chain\n",
    "        self.n = len(self.chain)\n",
    "        # create a grid of n x n (can later expand to 3D)\n",
    "        self.grid = [[self.AA() for y in range(self.n)] for x in range(self.n)]\n",
    "        # stability score is calculated with score function"
   ]
  },
  {
   "cell_type": "code",
   "execution_count": 82,
   "metadata": {},
   "outputs": [],
   "source": [
    "protein = Protein(\"HPPH\")"
   ]
  },
  {
   "cell_type": "code",
   "execution_count": 85,
   "metadata": {},
   "outputs": [],
   "source": [
    "protein.grid[0][0].aa = 'H'\n",
    "protein.grid[0][0].i = 0\n",
    "protein.grid[1][0].aa = 'P'\n",
    "protein.grid[1][0].i = 1\n",
    "protein.grid[1][1].aa = 'P'\n",
    "protein.grid[1][1].i = 2\n",
    "protein.grid[0][1].aa = 'H'\n",
    "protein.grid[0][1].i = 3"
   ]
  },
  {
   "cell_type": "code",
   "execution_count": 98,
   "metadata": {},
   "outputs": [],
   "source": [
    "@timethis\n",
    "def score(protein):\n",
    "    score = 0\n",
    "\n",
    "    for x in range(protein.n):\n",
    "        for y in range(protein.n):\n",
    "            if protein.grid[x][y].aa == 'H':\n",
    "                x1 = x + 1\n",
    "                y1 = y + 1\n",
    "                if protein.grid[x1][y].aa == 'H':\n",
    "                    score = score - 1\n",
    "                    print \"right\", x1, y, protein.grid[x][y].i, protein.grid[x1][y].i\n",
    "                elif protein.grid[x][y1].aa == 'H':\n",
    "                    score = score - 1\n",
    "                    print \"down\", x, y1, protein.grid[x][y].i, protein.grid[x][y1].i\n",
    "\n",
    "    return score"
   ]
  },
  {
   "cell_type": "markdown",
   "metadata": {},
   "source": [
    "###### score(protein)"
   ]
  }
 ],
 "metadata": {
  "kernelspec": {
   "display_name": "Python 2",
   "language": "python",
   "name": "python2"
  },
  "language_info": {
   "codemirror_mode": {
    "name": "ipython",
    "version": 2
   },
   "file_extension": ".py",
   "mimetype": "text/x-python",
   "name": "python",
   "nbconvert_exporter": "python",
   "pygments_lexer": "ipython2",
   "version": "2.7.14"
  }
 },
 "nbformat": 4,
 "nbformat_minor": 2
}
