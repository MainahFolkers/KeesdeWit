{
 "cells": [
  {
   "cell_type": "markdown",
   "metadata": {},
   "source": [
    "eerste binding naar rechts\n",
    "tweede naar rechts of onder\n",
    "\n",
    "alleen maar rechtsdoor valt af\n",
    "\n",
    "denk na over palindroom en symmetrie\n",
    "\n",
    "hill climber: recursie, in lokaal minimum of maximum zoek op andere plek verder\n",
    "path:up, down, left, right. verander 1 element in path array, dan ook constrains checken\n",
    "\n",
    "kansboom, trie met path array: up, up, down, down left\n",
    "\n",
    "midden van grid is 0,0"
   ]
  },
  {
   "cell_type": "code",
   "execution_count": null,
   "metadata": {
    "collapsed": true
   },
   "outputs": [],
   "source": [
    "import random\n",
    "\n",
    "# fold protein random onto grid\n",
    "def fold(protein):\n",
    "    x = 0\n",
    "    y = 0\n",
    "    i = 0\n",
    "    \n",
    "    coordinates = [[x,y] for i in range(protein.n)]\n",
    "    \n",
    "    # iterate over amino acids in chain\n",
    "    while i < protein.n:\n",
    "        if [x, y] not in coordinates:\n",
    "            protein.grid[x][y].aa = protein.chain[i]\n",
    "            protein.grid[x][y].i = i\n",
    "            \n",
    "            coordinates[i] = [x,y]\n",
    "            print i, coordinates[i]\n",
    "            \n",
    "            i = i + 1\n",
    "            \n",
    "        else:\n",
    "            direc = random.randint(0,3)\n",
    "\n",
    "            # 0 is up\n",
    "            if direc == 0:\n",
    "                y = y - 1\n",
    "            # 1 is right\n",
    "            elif direc == 1:\n",
    "                x = x + 1\n",
    "            # 2 is down\n",
    "            elif direc == 2:\n",
    "                y = y + 1\n",
    "            # 3 is left\n",
    "            elif direc == 3:\n",
    "                x = x - 1\n",
    "            \n",
    "            i = i - 1"
   ]
  }
 ],
 "metadata": {
  "kernelspec": {
   "display_name": "Python 2",
   "language": "python",
   "name": "python2"
  },
  "language_info": {
   "codemirror_mode": {
    "name": "ipython",
    "version": 2
   },
   "file_extension": ".py",
   "mimetype": "text/x-python",
   "name": "python",
   "nbconvert_exporter": "python",
   "pygments_lexer": "ipython2",
   "version": "2.7.14"
  }
 },
 "nbformat": 4,
 "nbformat_minor": 2
}
